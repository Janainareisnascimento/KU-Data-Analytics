{
  "nbformat": 4,
  "nbformat_minor": 0,
  "metadata": {
    "colab": {
      "provenance": [],
      "toc_visible": true
    },
    "kernelspec": {
      "name": "python3",
      "display_name": "Python 3"
    }
  },
  "cells": [
    {
      "cell_type": "markdown",
      "metadata": {
        "id": "NQaCY3Fa0m-7"
      },
      "source": [
        "# **Assignment 1: Instructions**\n",
        "\n",
        "\n",
        "\n",
        "*   The due date for this assignment is **Feb 20, 11:59 pm**.\n",
        "\n",
        "*   Please add your answers to this notebook itself. Please rename the completed notebook as **Assignment_1_YourFirstName_YourLastName.ipynb**, and *upload it to Canvas*.\n",
        "\n",
        "*   Please feel free to use all class materials to solve these problems. All materials can be found under the \"Modules\" menu of Canvas. However, **please do not discuss with others**.\n",
        "\n",
        "*   The assignment consists of 4 questions. Python codes are required for questions 2, 3, and 4, but not for question 1.\n",
        "\n",
        "*   Unless specified, all values can be fractional. There is no need to round-up any solution.\n",
        "\n",
        "*   You can upload the completed notebook to Canvas as many times as you wish. Only the last-uploaded version will be graded."
      ]
    },
    {
      "cell_type": "markdown",
      "metadata": {
        "id": "CqF-OuBGpWrP"
      },
      "source": [
        "# **Install and Import**"
      ]
    },
    {
      "cell_type": "code",
      "metadata": {
        "colab": {
          "base_uri": "https://localhost:8080/"
        },
        "id": "8yGHY3RHpVxC",
        "outputId": "0724030b-5186-4c8f-d456-d3cae3d060a8"
      },
      "source": [
        "# We will use pulp solver for solving LP problems.\n",
        "# Details on the pulp solver can be found at: https://coin-or.github.io/pulp/\n",
        "# The following line installs the pulp solver. pip is python's package management system.\n",
        "# The '!' before pip is important\n",
        "\n",
        "!pip install pulp\n",
        "\n",
        "# Now that we have installed the solver, the following line imports it, i.e., makes it usable.\n",
        "\n",
        "from pulp import *\n",
        "\n",
        "# To perform sensitivity analysis, we will use the GLPK solver.\n",
        "# Details about this solver can be found here: https://www.gnu.org/software/glpk/\n",
        "\n",
        "#!apt-get install -y -qq glpk-utils"
      ],
      "execution_count": null,
      "outputs": [
        {
          "output_type": "stream",
          "name": "stdout",
          "text": [
            "Requirement already satisfied: pulp in /usr/local/lib/python3.7/dist-packages (2.6.0)\n"
          ]
        }
      ]
    },
    {
      "cell_type": "markdown",
      "metadata": {
        "id": "S6CZ-_ht34d-"
      },
      "source": [
        "# **Question 1 (24 Points)**\n",
        "\n",
        "State whether the following LP problem will have a unique optimal solution, more than one solution, or no optimal solution. Provide reasoning behind your answers.\n",
        "\n",
        "*You do NOT need to include codes for this question. If you wish, you can add a plot of the feasible area created on  https://www.desmos.com/calculator. Colab lets you upload an image in a text cell.*\n",
        "\n",
        "\n",
        "1.   $\\text{Maximize } x_1 + x_2$\\\n",
        "     **Constraints**:\n",
        "        *   $x_1 + x_2 \\le 4$\n",
        "        *   $x_1 - x_2 \\ge 5$\n",
        "        *   $x_1, x_2 \\ge 0$\n",
        "\n",
        "\n",
        "2.   $\\text{Maximize } 4x_1 + x_2$\\\n",
        "     **Constraints**:\n",
        "        *   $8x_1 + 2x_2 \\le 16$\n",
        "        *   $5x_1 + 2x_2 \\le 12$\n",
        "        *   $x_1, x_2 \\ge 0$\n",
        "        \n",
        "\n",
        "3.   $\\text{Maximize } -x_1 + 3x_2$\\\n",
        "     **Constraints**:\n",
        "        *   $x_1 - x_2 \\le 4$\n",
        "        *   $x_1 + 2x_2 \\ge 4$\n",
        "        *   $x_1, x_2 \\ge 0$\n",
        "                \n",
        "\n",
        "4.   $\\text{Maximize } 3x_1 + x_2$\\\n",
        "     **Constraints**:\n",
        "        *   $2x_1 + x_2 \\le 6$\n",
        "        *   $x_1 + 3x_2 \\le 9$\n",
        "        *   $x_1, x_2 \\ge 0$"
      ]
    },
    {
      "cell_type": "markdown",
      "metadata": {
        "id": "Pc5IItNfhHX5"
      },
      "source": [
        "## **Question 1: Solution**\n"
      ]
    },
    {
      "cell_type": "markdown",
      "metadata": {
        "id": "P8OTPWpuSHOo"
      },
      "source": [
        "**Part 1**\n",
        "\n",
        "Observe that the second constraint, implies $x_1 \\ge 5 + x_2$. Since, $x_1,x_2 \\ge 0$, $x_1$ needs to be at least $5$ to satisfy the second constraint. However, the maximum value of $x_1$ per constraint 1 is 4. Therefore, there does not exist any $x_1, x_2$ that simultaneously satisfy all the constraints. Hence, **this lp problem is infeasible and no optimal solution can exist** ."
      ]
    },
    {
      "cell_type": "markdown",
      "metadata": {
        "id": "sUPX_NqBU3fz"
      },
      "source": [
        "**Part 2**   \n",
        "\n",
        "From the figure below, observe that\n",
        "  \n",
        "\n",
        "  *   the feasible region (shaded in gray) is non-empty and bounded. Hence, we are guaranteed to have *at least one* optimal solution.\n",
        "  *   the iso-objective lines (the red lines) are parallel to the constraint $8x_1 + 2x_2 \\le 16$ (the green dashed line).\n",
        "\n",
        "Hence, any point on the constraint that is a part of the feasible region will be optimal. In other words, **this lp has multiple (infinitely many) optimal solutions**."
      ]
    },
    {
      "cell_type": "code",
      "metadata": {
        "colab": {
          "base_uri": "https://localhost:8080/",
          "height": 362
        },
        "id": "1I3KvrayU6K_",
        "outputId": "863c2754-de7d-402f-9744-98781f62817c"
      },
      "source": [
        "# Plot for Problem 1 part 2.\n",
        "\n",
        "from numpy import *\n",
        "from matplotlib.pyplot import *\n",
        "%matplotlib inline\n",
        "\n",
        "x = linspace(0, 3, 100)\n",
        "y1 = (16 - 8*x)/2\n",
        "y2 = (12 - 5*x)/2\n",
        "\n",
        "plot(x,y1,label=r'$8x_1 + 2x_2 \\leq 16$',linestyle='-.',color='green')\n",
        "plot(x,y2,label=r'$5x_1 + 2x_2 \\leq 12$',linestyle='--',color='blue')\n",
        "\n",
        "# For the previous three constraints only\n",
        "fill([0,0,4/3,2],[0,6,8/3,0],color='lightgray')\n",
        "\n",
        "y3 = 4 - 4*x\n",
        "y4 = 7.5 - 4*x\n",
        "\n",
        "plot(x,y3,label=r'$Objective = 4$',linestyle=':',color='red')\n",
        "plot(x,y4,'.',label=r'$Objective = 7.5$',color='red')\n",
        "\n",
        "#annotate(\"Optimal (0,150)\", (0, 200))\n",
        "#plot(0,150,'ro')\n",
        "xlim([0,2.5])\n",
        "ylim([0,8])\n",
        "xlabel('$x_1$', fontsize=16)\n",
        "ylabel('$x_2$', fontsize=16)\n",
        "legend(loc='upper center', bbox_to_anchor=(0.5,-0.2),fancybox=True, shadow=False, ncol=2, fontsize=16)\n",
        "#savefig('Feasible_Region3.pdf', bbox_inches='tight')\n",
        "show()"
      ],
      "execution_count": null,
      "outputs": [
        {
          "output_type": "display_data",
          "data": {
            "image/png": "[encoded data removed]",
            "text/plain": [
              "<Figure size 432x288 with 1 Axes>"
            ]
          },
          "metadata": {
            "tags": [],
            "needs_background": "light"
          }
        }
      ]
    },
    {
      "cell_type": "markdown",
      "metadata": {
        "id": "5yWAtJCyhNT1"
      },
      "source": [
        "**Part 3**   \n",
        "\n",
        "Observe that the first constraint can be written as $x_2 >= x_1 - 4$, while the second constraint is $x_1 + 2x_2 \\ge 4$. In either of these constraints, there is no limit on how large $x_2$ can be. Moreover, the objective is to *Maximize* $-x_1 + 3x_2$. Hence, we need to set $x_1$ as low as possible (which is $0$ because of the non-negativity constraints), and set $x_2$ as large as possible (but there is no upper limit). Hence, **this lp is unbounded and no optimal solution can exist**."
      ]
    },
    {
      "cell_type": "markdown",
      "metadata": {
        "id": "G5uDS76LU3pf"
      },
      "source": [
        "**Part 4**\n",
        "\n",
        "From the figure below, observe that\n",
        "          \n",
        "*   There is a non-empty and bounded feasible region; hence, we are guaranteed to have an optimal solution.\n",
        "*   The iso-objective lines (in red) are not parallel to any of the constraints.\n",
        "*   Since the objective function increases as we move the iso-objective line as far from the origin (the $x_1 = 0, x_2 = 0$ point) as possible, we can see that the corner point $x_1 = 3, x_2 = 0$ (marked in red) is the **unique optimal solution to the lp**."
      ]
    },
    {
      "cell_type": "code",
      "metadata": {
        "colab": {
          "base_uri": "https://localhost:8080/",
          "height": 362
        },
        "id": "AXXb_wTioNb8",
        "outputId": "76f3f4c8-30bf-4fc8-f218-76d75a8f5b8d"
      },
      "source": [
        "# Plot for Problem 1 part 2.\n",
        "\n",
        "from numpy import *\n",
        "from matplotlib.pyplot import *\n",
        "%matplotlib inline\n",
        "\n",
        "x = linspace(0, 9, 100)\n",
        "y1 = 6 - 2*x\n",
        "y2 = (9 - x)/3\n",
        "\n",
        "plot(x,y1,label=r'$2x_1 + x_2 \\leq 6$',linestyle='-.',color='green')\n",
        "plot(x,y2,label=r'$x_1 + 3x_2 \\leq 9$',linestyle='--',color='blue')\n",
        "\n",
        "# For the previous three constraints only\n",
        "fill([0,0,9/5,3],[0,3,12/5,0],color='lightgray')\n",
        "\n",
        "y3 = 9 - 3*x\n",
        "\n",
        "plot(x,y3,label=r'$Objective = 9$',linestyle=':',color='red')\n",
        "\n",
        "annotate(\"Optimal (3,0)\", (3.5, 0.5))\n",
        "plot(3,0,'ro')\n",
        "xlim([0,9])\n",
        "ylim([0,6])\n",
        "xlabel('$x_1$', fontsize=16)\n",
        "ylabel('$x_2$', fontsize=16)\n",
        "legend(loc='upper center', bbox_to_anchor=(0.5,-0.2),fancybox=True, shadow=False, ncol=2, fontsize=16)\n",
        "#savefig('Feasible_Region3.pdf', bbox_inches='tight')\n",
        "show()"
      ],
      "execution_count": null,
      "outputs": [
        {
          "output_type": "display_data",
          "data": {
            "image/png": "[encoded data removed]",
            "text/plain": [
              "<Figure size 432x288 with 1 Axes>"
            ]
          },
          "metadata": {
            "tags": [],
            "needs_background": "light"
          }
        }
      ]
    },
    {
      "cell_type": "markdown",
      "metadata": {
        "id": "8CZioT4yEBcs"
      },
      "source": [
        "# **Question 2: RealWealth (26 Points)**\n",
        "\n",
        "RealWealth LLC, a real estate investment company, is considering five different investment opportunities all of which mature in 2026. The funds required for each opportunity in years 2024 and 2025, and the final value of each project in 2026 are given below:\n",
        "\n",
        "|  | Investment 1 | Investment 2 | Investment 3 | Investment 4 | Investment 5 |\n",
        "|:---:|:---:|:---:|:---:|:---:|:---:|\n",
        "| **Fund Required in 2024 (in millions of dollars)**  | 11  | 53 | 5 | 5 | 29 |\n",
        "| **Fund Required in 2025 (in millions of dollars)**  |  3 | 6 | 5 | 1 | 34 |\n",
        "| **Final Value of Investment in 2026 (in millions of dollars)**  | 13  | 16 | 16 | 14 | 39 |\n",
        "\n",
        "RealWealth has 40 million dollars avilable for investment in 2024. It estimates that in 2025, another \\$20 million will be available for investments. RealWealth may purchase any fraction of each investment in 2024. However, it cannot change this fraction (by buying or selling) in the future.\n",
        "\n",
        "For example, if RealWealth decides to purchase one-fifth of investment 3, then it must invest $\\frac{1}{5}$ of \\$5 million = \\$1 million\n",
        "in 2024, and another $\\frac{1}{5}$  of \\$5 million = \\$1 million in 2025. The one-fifth share of investment 3 would yield a value of  $\\frac{1}{5}(16)=$ \\$3.2 million in 2026.\n",
        "\n",
        "RealWealth wants to maximize the final value that can be obtained by investing in investments 1–5 in 2026.  Assume that any cash left over in 2024 cannot be used in 2025.  Also assume that all figures in the above table are adjusted to reflect their net present value in 2024 and no other outside investment opportunities are available.\n",
        "\n",
        "\n",
        "*Formulate an LP that will help RealWealth achieve this goal. Please use Python's pulp package to find the optimal solution of the lp.*"
      ]
    },
    {
      "cell_type": "markdown",
      "metadata": {
        "id": "aEBYQgMiLhv1"
      },
      "source": [
        "## **RealWealth: Formulation**\n",
        "\n",
        "RealWealth needs to decide what fraction of each investment to purchase to maximize their final value (i.e., return) in 2024.\n",
        "\n",
        "\n",
        "**Decision Variables**: $x_1,x_2,x_3,x_4,x_5$, where $x_i$ denotes the fraction of investment $i$ purchased ($i = 1,2,...,5$).\n",
        "\n",
        "**Objective**: Maximize the total return in 2026 based on this investment.\n",
        "\n",
        "$$\\text{Maximize } 13x_1 + 16x_2 + 16x_3 +14x_4 + 39x_5$$\n",
        "\n",
        "**Constraints**:\n",
        "\n",
        "1.   Total fund required in 2024 should be lower than \\$40 million: &emsp; $11x_1 + 53x_2 + 5x_3 + 5x_4 + 29x_5 \\le 40$\n",
        "2.   Total fund required in 2025 should be lower than \\$20 million: &emsp; $3x_1 + 6x_2 + 5x_3 + x_4 + 34x_5 \\le 20$\n",
        "3.   Fractions must be between 0 and 1: &emsp; $0 \\le x_1,x_2,x_3,x_4,x_5 \\le 1$\n"
      ]
    },
    {
      "cell_type": "markdown",
      "metadata": {
        "id": "lntW86rpl6PN"
      },
      "source": [
        "## **RealWealth: Solution**"
      ]
    },
    {
      "cell_type": "code",
      "metadata": {
        "colab": {
          "base_uri": "https://localhost:8080/"
        },
        "id": "3G-a4s9bl6-x",
        "outputId": "4c37479e-c17d-4a23-e329-50e65abf16f5"
      },
      "source": [
        "from pulp import *\n",
        "\n",
        "\n",
        "# Note that this is a Maximization Problem and we need to use LpMaximize\n",
        "\n",
        "prob = LpProblem(\"RealWealth\",LpMaximize)\n",
        "\n",
        "# Decision Variables\n",
        "x_1=LpVariable(\"Investment 1\", lowBound = 0, upBound = 1, cat='Continuous')\n",
        "x_2=LpVariable(\"Investment 2\", lowBound = 0, upBound = 1, cat='Continuous')\n",
        "x_3=LpVariable(\"Investment 3\", lowBound = 0, upBound = 1, cat='Continuous')\n",
        "x_4=LpVariable(\"Investment 4\", lowBound = 0, upBound = 1, cat='Continuous')\n",
        "x_5=LpVariable(\"Investment 5\", lowBound = 0, upBound = 1, cat='Continuous')\n",
        "\n",
        "# The objective function\n",
        "prob += 13*x_1 + 16*x_2 + 16*x_3 + 14*x_4 + 39*x_5, \"Objective\"\n",
        "\n",
        "# The constraints are\n",
        "prob += 11*x_1 + 53*x_2 + 5*x_3 + 5*x_4 + 29*x_5 <= 40, \"2021_Funds\"\n",
        "prob += 3*x_1 + 6*x_2 + 5*x_3 + x_4 + 34*x_5 <= 20, \"2022_Funds\"\n",
        "\n",
        "\n",
        "# Display the problem\n",
        "print(prob)\n",
        "\n",
        "\n",
        "# The following line solves the problem.\n",
        "prob.solve()   # Solver\n",
        "\n",
        "\n",
        "print(\"----- Objective -----\")\n",
        "\n",
        "# The next line prints the solution status\n",
        "print(\"Status : \", LpStatus[prob.status])\n",
        "\n",
        "\n",
        "# Finally, we are ready to print the solution from the solver.\n",
        "# The next line prints the objective.\n",
        "\n",
        "\n",
        "print(\"Objective : \", value(prob.objective))\n",
        "\n",
        "print() # blank line\n",
        "print(\"----- Decision Variables -----\")\n",
        "\n",
        "# The next two lines print the name and value of variables.\n",
        "# prob.variables() contains a list of variables.\n",
        "# We pick one variable at a time from this list and print its name and value in the for loop\n",
        "\n",
        "\n",
        "for v in prob.variables():\n",
        "    print(v.name,\" : \", v.value())\n",
        "\n",
        "\n",
        "# The next two lines print the name and value of constraints.\n",
        "# prob.constraints.items() contains a list of constraints.\n",
        "# We pick one constraints at a time from this list and print its name and value in the for loop\n",
        "# value of each constraint = Left hand side - Right hand side\n",
        "# Observe that the Order_Volume_Constraint and the Budget_Constraint both have 0 value.\n",
        "# These constraints are tightl i.e., LHS = RHS. The optimal corner point lies at the intersection of these two constraints, (x=10,y=10).\n",
        "\n",
        "print() # blank line\n",
        "print(\"----- Constraints -----\")\n",
        "\n",
        "for name, cons in prob.constraints.items():\n",
        "    print(name,\" : \", cons.value())\n",
        "\n",
        "\n",
        "# Note you might get the following message:\n",
        "# UserWarning: Spaces are not permitted in the name. Converted to '_' warnings.warn(\"Spaces are not permitted in the name. Converted to '_'\")\n",
        "# This message will go away if you do not have spaces in the names of the problem, variables, or constraints.\n",
        "# It does not affect your results."
      ],
      "execution_count": null,
      "outputs": [
        {
          "output_type": "stream",
          "text": [
            "RealWealth:\n",
            "MAXIMIZE\n",
            "13*Investment_1 + 16*Investment_2 + 16*Investment_3 + 14*Investment_4 + 39*Investment_5 + 0\n",
            "SUBJECT TO\n",
            "2021_Funds: 11 Investment_1 + 53 Investment_2 + 5 Investment_3\n",
            " + 5 Investment_4 + 29 Investment_5 <= 40\n",
            "\n",
            "2022_Funds: 3 Investment_1 + 6 Investment_2 + 5 Investment_3 + Investment_4\n",
            " + 34 Investment_5 <= 20\n",
            "\n",
            "VARIABLES\n",
            "Investment_1 <= 1 Continuous\n",
            "Investment_2 <= 1 Continuous\n",
            "Investment_3 <= 1 Continuous\n",
            "Investment_4 <= 1 Continuous\n",
            "Investment_5 <= 1 Continuous\n",
            "\n",
            "----- Objective -----\n",
            "Status :  Optimal\n",
            "Objective :  57.44901726\n",
            "\n",
            "----- Decision Variables -----\n",
            "Investment_1  :  1.0\n",
            "Investment_2  :  0.20085995\n",
            "Investment_3  :  1.0\n",
            "Investment_4  :  1.0\n",
            "Investment_5  :  0.28808354\n",
            "\n",
            "----- Constraints -----\n",
            "2021_Funds  :  1.000000082740371e-08\n",
            "2022_Funds  :  5.999999963535174e-08\n"
          ],
          "name": "stdout"
        }
      ]
    },
    {
      "cell_type": "markdown",
      "source": [
        "# **Question 3: KC Furniture (25 Points)**\n",
        "\n",
        "KC Furniture is a local furniture company that manufactures only two products: couches and cabinets. The raw material cost, labor cost, and profit per unit of each product is given below.\n",
        "\n",
        "| Product | Raw Material Cost | Labor Cost | Profit |\n",
        "|:---:|:---:|:---:|:---:|\n",
        "| Couch  | \\$50 | \\$30  | \\$200\n",
        "| Cabinet | \\$35 | \\$20  | \\$150\n",
        "\n",
        "\n",
        "Sales in previous months have been low and they have no cash reserves at the moment. Fortunately, due to supply chain delays at other retailers, they expect to be able to sell up to 100 couches and 100 cabinets in February. Hence, KC Furniture has secured a bank loan of up to \\$6000 to pay for February's raw material cost. The bank has agreed to a second loan to also pay for February's labor cost, provided that the total labor cost is at least \\$2000 lower than the total raw material cost in the month. How many couches and cabinets (can be fractional) should KC Furniture produce in February to maximize total profit?"
      ],
      "metadata": {
        "id": "-ly9Mn1Jh0po"
      }
    },
    {
      "cell_type": "markdown",
      "source": [
        "## **KC Furniture: Formulation**\n",
        "\n",
        "KC Furniture needs to decide how many couches and cabinets to produce in the month of February.\n",
        "\n",
        "**Decision Variables**:\n",
        "* Number of Couches: $x$ <br>\n",
        "* Number of Cabinets: $y$ <br>\n",
        "\n",
        "\n",
        "**Objective**: Maximize total profit in February.\n",
        "\n",
        "$$\\text{Maximize } 200x + 150y$$\n",
        "\n",
        "**Constraints**:\n",
        "\n",
        "1.   Maximum Couch Demand: &emsp; $x \\le 100$\n",
        "2.   Maximum Cabinet Demand: &emsp; $y \\le 100$\n",
        "3.   Total Labor Cost: &emsp; $50x + 35y \\le 6000$\n",
        "4.   Total Labor Cost: &emsp; $30x + 20y \\le 50x + 35y - 2000 \\implies 20x + 15y \\ge 2000$\n",
        "5.   Non-negativity: &emsp; $x,y \\ge 0$\n"
      ],
      "metadata": {
        "id": "ODS38DXCoPLh"
      }
    },
    {
      "cell_type": "markdown",
      "metadata": {
        "id": "-nBMRsMksl6r"
      },
      "source": [
        "## **KC Furniture: Solution**"
      ]
    },
    {
      "cell_type": "code",
      "metadata": {
        "colab": {
          "base_uri": "https://localhost:8080/"
        },
        "outputId": "1d4e729f-05a2-4cbc-d66a-955eaeadf432",
        "id": "KxOtZdFrsl6w"
      },
      "source": [
        "from pulp import *\n",
        "\n",
        "\n",
        "# Note that this is a Maximization Problem and we need to use LpMinimize\n",
        "\n",
        "prob = LpProblem(\"KC_Furniture\",LpMaximize)\n",
        "\n",
        "# Decision variables\n",
        "x=LpVariable(\"Couch\", lowBound = 0, upBound = 100, cat='Continuous')\n",
        "y=LpVariable(\"Cabinet\", lowBound = 0, upBound = 100, cat='Continuous')\n",
        "\n",
        "# The objective function\n",
        "prob += 200*x + 150*y, \"Objective\"\n",
        "\n",
        "# The constraints are\n",
        "prob += 50*x + 35*y <= 6000, \"Raw_Material_Cost\"\n",
        "prob += 20*x + 15*y >= 2000, \"Labor_Cost\"\n",
        "\n",
        "\n",
        "\n",
        "# Display the problem\n",
        "print(prob)\n",
        "\n",
        "\n",
        "# The following line solves the problem.\n",
        "prob.solve()   # Solver\n",
        "\n",
        "print(\"----- Objective -----\")\n",
        "\n",
        "# The next line prints the solution status\n",
        "print(\"Status : \", LpStatus[prob.status])\n",
        "\n",
        "\n",
        "# Finally, we are ready to print the solution from the solver.\n",
        "# The next line prints the objective.\n",
        "\n",
        "\n",
        "print(\"Objective : \", value(prob.objective))\n",
        "\n",
        "print() # blank line\n",
        "print(\"----- Decision Variables -----\")\n",
        "\n",
        "# The next two lines print the name and value of variables.\n",
        "# prob.variables() contains a list of variables.\n",
        "# We pick one variable at a time from this list and print its name and value in the for loop\n",
        "\n",
        "\n",
        "for v in prob.variables():\n",
        "    print(v.name,\" : \", v.value())\n",
        "\n",
        "\n",
        "# The next two lines print the name and value of constraints.\n",
        "# prob.constraints.items() contains a list of constraints.\n",
        "# We pick one constraints at a time from this list and print its name and value in the for loop\n",
        "# value of each constraint = Left hand side - Right hand side\n",
        "# Observe that the Order_Volume_Constraint and the Budget_Constraint both have 0 value.\n",
        "# These constraints are tightl i.e., LHS = RHS. The optimal corner point lies at the intersection of these two constraints, (x=10,y=10).\n",
        "\n",
        "print() # blank line\n",
        "print(\"----- Constraints -----\")\n",
        "\n",
        "for name, cons in prob.constraints.items():\n",
        "    print(name,\" : \", cons.value())\n",
        "\n",
        "\n",
        "# Note you might get the following message:\n",
        "# UserWarning: Spaces are not permitted in the name. Converted to '_' warnings.warn(\"Spaces are not permitted in the name. Converted to '_'\")\n",
        "# This message will go away if you do not have spaces in the names of the problem, variables, or constraints.\n",
        "# It does not affect your results.\n"
      ],
      "execution_count": null,
      "outputs": [
        {
          "output_type": "stream",
          "name": "stdout",
          "text": [
            "KC_Furniture:\n",
            "MAXIMIZE\n",
            "150*Cabinet + 200*Couch + 0\n",
            "SUBJECT TO\n",
            "Raw_Material_Cost: 35 Cabinet + 50 Couch <= 6000\n",
            "\n",
            "Labor_Cost: 15 Cabinet + 20 Couch >= 2000\n",
            "\n",
            "VARIABLES\n",
            "Cabinet <= 100 Continuous\n",
            "Couch <= 100 Continuous\n",
            "\n",
            "----- Objective -----\n",
            "Status :  Optimal\n",
            "Objective :  25000.0\n",
            "\n",
            "----- Decision Variables -----\n",
            "Cabinet  :  100.0\n",
            "Couch  :  50.0\n",
            "\n",
            "----- Constraints -----\n",
            "Raw_Material_Cost  :  0.0\n",
            "Labor_Cost  :  500.0\n"
          ]
        }
      ]
    },
    {
      "cell_type": "markdown",
      "metadata": {
        "id": "GCO0McEk09uJ"
      },
      "source": [
        "# **Question 4: Advertisement Campaign (25 Points)**\n",
        "\n",
        "LMart, a new department store in Lawrence, is planning a massive advertisement campaign during the Memorial day week. They are considering 4 different advertising channels: TV, Radio, Newspaper, and Online. Each of these channels differ in the cost per ad, the number of impressions per ad (the number of people who viewed/listened to the ad), and the number of visits (either to the website or the physical store) from people of different age groups.\n",
        "\n",
        "| Channel | Cost per ad | Impressions per ad | Visits from age group 60+| Visits from age group 26-60 | Visits from age group 0-25|\n",
        "|:---:|:---:|:---:|:---:|:---:|:---:|\n",
        "| TV  | \\$5000 | 400  | 30 | 20 | 20 |\n",
        "| Radio | \\$2000 | 200  | 20 | 20 | 40 |\n",
        "| Newspaper  | \\$3000 | 150  | 0 | 40 | 10 |\n",
        "| Online  | \\$8000 | 500  | 0 | 40 | 50 |\n",
        "\n",
        "Everyday in that week, LMart wants to achieve at least 500 total impressions,  at least 60 visits from people in the above 60 age group, at least 100 visits from people in the 26-60 age group, and at least 80 visits from people in the 25 and below age group.\n",
        "\n",
        "*Formulate a LP to help LMart decide how many ads for each channel to buy everyday of that week to minimize their cost while meeting their impression targets. Please use Python's pulp package to find the optimal solution of the lp.*"
      ]
    },
    {
      "cell_type": "markdown",
      "metadata": {
        "id": "qdxZu0E0q6Md"
      },
      "source": [
        "## **Advertisement Campaign: Formulation**\n",
        "\n",
        "LMart needs to decide how many ads to purchase for each advertisement channel.\n",
        "\n",
        "**Decision Variables**: Number of ads for:<br>\n",
        "* TV: $x_t$ <br>\n",
        "* Radio: $x_r$ <br>\n",
        "* Newspaper: $x_n$ <br>\n",
        "* Online: $x_o$ <br>\n",
        "\n",
        "\n",
        "**Objective**: Minimize the total advertisement cost.\n",
        "\n",
        "$$\\text{Minimize } 5000x_t + 2000x_r + 3000x_n + 8000x_o$$\n",
        "\n",
        "\n",
        "\n",
        "**Constraints**:\n",
        "\n",
        "1.   Total impressions: &emsp; $400x_t + 200x_r + 150x_n + 500x_o \\ge 500$\n",
        "2.   Visits from age group 60+: &emsp; $30x_t + 20x_r + 0x_n + 0x_o \\ge 60$\n",
        "3.   Visits from age group 26-60: &emsp; $20x_t + 20x_r + 40x_n + 40x_o \\ge 100$\n",
        "4.   Visits from age group 0-25: &emsp; $20x_t + 40x_r + 10x_n + 50x_o \\ge 80$\n",
        "5.   Non-negativity: &emsp; $x_t,x_r,x_n,x_o \\ge 0$\n"
      ]
    },
    {
      "cell_type": "markdown",
      "metadata": {
        "id": "_oM1uJXPv1aW"
      },
      "source": [
        "## **Advertisement Campaign: Solution**"
      ]
    },
    {
      "cell_type": "code",
      "metadata": {
        "colab": {
          "base_uri": "https://localhost:8080/"
        },
        "id": "xTyQ5nsfv8mE",
        "outputId": "6f69df2d-01db-4153-eece-29d763dc3f03"
      },
      "source": [
        "from pulp import *\n",
        "\n",
        "\n",
        "# Note that this is a Minimization Problem and we need to use LpMinimize\n",
        "\n",
        "prob = LpProblem(\"LMart\",LpMinimize)\n",
        "\n",
        "# Decision variables\n",
        "x_t=LpVariable(\"TV\", lowBound = 0, upBound = None, cat='Continuous')\n",
        "x_r=LpVariable(\"Radio\", lowBound = 0, upBound = None, cat='Continuous')\n",
        "x_n=LpVariable(\"Newspaper\", lowBound = 0, upBound = None, cat='Continuous')\n",
        "x_o=LpVariable(\"Online\", lowBound = 0, upBound = None, cat='Continuous')\n",
        "\n",
        "# The objective function\n",
        "prob += 5000*x_t + 2000*x_r + 3000*x_n + 8000*x_o, \"Objective\"\n",
        "\n",
        "# The constraints are\n",
        "prob += 400*x_t + 200*x_r + 150*x_n + 500*x_o >= 500, \"Total_Impressions\"\n",
        "prob += 30*x_t + 20*x_r >= 60, \"Visits_60_Up\"\n",
        "prob += 20*x_t + 20*x_r + 40*x_n + 40*x_o >= 100, \"Visits_26_60\"\n",
        "prob += 20*x_t + 40*x_r + 10*x_n + 50*x_o >= 80, \"Visits_0_25\"\n",
        "\n",
        "\n",
        "\n",
        "# Display the problem\n",
        "print(prob)\n",
        "\n",
        "\n",
        "# The following line solves the problem.\n",
        "prob.solve()   # Solver\n",
        "\n",
        "print(\"----- Objective -----\")\n",
        "\n",
        "# The next line prints the solution status\n",
        "print(\"Status : \", LpStatus[prob.status])\n",
        "\n",
        "\n",
        "# Finally, we are ready to print the solution from the solver.\n",
        "# The next line prints the objective.\n",
        "\n",
        "\n",
        "print(\"Objective : \", value(prob.objective))\n",
        "\n",
        "print() # blank line\n",
        "print(\"----- Decision Variables -----\")\n",
        "\n",
        "# The next two lines print the name and value of variables.\n",
        "# prob.variables() contains a list of variables.\n",
        "# We pick one variable at a time from this list and print its name and value in the for loop\n",
        "\n",
        "\n",
        "for v in prob.variables():\n",
        "    print(v.name,\" : \", v.value())\n",
        "\n",
        "\n",
        "# The next two lines print the name and value of constraints.\n",
        "# prob.constraints.items() contains a list of constraints.\n",
        "# We pick one constraints at a time from this list and print its name and value in the for loop\n",
        "# value of each constraint = Left hand side - Right hand side\n",
        "# Observe that the Order_Volume_Constraint and the Budget_Constraint both have 0 value.\n",
        "# These constraints are tightl i.e., LHS = RHS. The optimal corner point lies at the intersection of these two constraints, (x=10,y=10).\n",
        "\n",
        "print() # blank line\n",
        "print(\"----- Constraints -----\")\n",
        "\n",
        "for name, cons in prob.constraints.items():\n",
        "    print(name,\" : \", cons.value())\n",
        "\n",
        "\n",
        "# Note you might get the following message:\n",
        "# UserWarning: Spaces are not permitted in the name. Converted to '_' warnings.warn(\"Spaces are not permitted in the name. Converted to '_'\")\n",
        "# This message will go away if you do not have spaces in the names of the problem, variables, or constraints.\n",
        "# It does not affect your results.\n"
      ],
      "execution_count": null,
      "outputs": [
        {
          "output_type": "stream",
          "name": "stdout",
          "text": [
            "LMart:\n",
            "MINIMIZE\n",
            "3000*Newspaper + 8000*Online + 2000*Radio + 5000*TV + 0\n",
            "SUBJECT TO\n",
            "Total_Impressions: 150 Newspaper + 500 Online + 200 Radio + 400 TV >= 500\n",
            "\n",
            "Visits_60_Up: 20 Radio + 30 TV >= 60\n",
            "\n",
            "Visits_26_60: 40 Newspaper + 40 Online + 20 Radio + 20 TV >= 100\n",
            "\n",
            "Visits_0_25: 10 Newspaper + 50 Online + 40 Radio + 20 TV >= 80\n",
            "\n",
            "VARIABLES\n",
            "Newspaper Continuous\n",
            "Online Continuous\n",
            "Radio Continuous\n",
            "TV Continuous\n",
            "\n",
            "----- Objective -----\n",
            "Status :  Optimal\n",
            "Objective :  9000.0\n",
            "\n",
            "----- Decision Variables -----\n",
            "Newspaper  :  1.0\n",
            "Online  :  0.0\n",
            "Radio  :  3.0\n",
            "TV  :  0.0\n",
            "\n",
            "----- Constraints -----\n",
            "Total_Impressions  :  250.0\n",
            "Visits_60_Up  :  0.0\n",
            "Visits_26_60  :  0.0\n",
            "Visits_0_25  :  50.0\n"
          ]
        }
      ]
    }
  ]
}